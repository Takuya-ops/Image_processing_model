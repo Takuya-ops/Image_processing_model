{
  "nbformat": 4,
  "nbformat_minor": 0,
  "metadata": {
    "colab": {
      "provenance": []
    },
    "kernelspec": {
      "name": "python3",
      "display_name": "Python 3"
    },
    "language_info": {
      "name": "python"
    }
  },
  "cells": [
    {
      "cell_type": "code",
      "execution_count": 1,
      "metadata": {
        "id": "JyHoochIOpAg"
      },
      "outputs": [],
      "source": [
        "import torch\n",
        "from torch import nn"
      ]
    },
    {
      "cell_type": "code",
      "source": [
        "class UNet(nn.Module):\n",
        "\n",
        "    def __init__(self, in_ch, num_classes):\n",
        "        super().__init__()\n",
        "\n",
        "        self.dconv_down1 = self._double_conv(in_ch, 64)\n",
        "        self.dconv_down2 = self._double_conv(64, 128)\n",
        "        self.dconv_down3 = self._double_conv(128, 256)\n",
        "        self.dconv_down4 = self._double_conv(256, 512)\n",
        "        self.dconv_down5 = self._double_conv(512, 1024)\n",
        "\n",
        "        self.maxpool = nn.MaxPool2d(2)\n",
        "\n",
        "        self.upconv4 = self._up_conv(1024, 512)\n",
        "        self.upconv3 = self._up_conv(512, 256)\n",
        "        self.upconv2 = self._up_conv(256, 128)\n",
        "        self.upconv1 = self._up_conv(128, 64)\n",
        "\n",
        "        self.dconv_up4 = self._double_conv(1024, 512)\n",
        "        self.dconv_up3 = self._double_conv(512, 256)\n",
        "        self.dconv_up2 = self._double_conv(256, 128)\n",
        "        self.dconv_up1 = self._double_conv(128, 64)\n",
        "\n",
        "        self.conv_last = nn.Conv2d(64, num_classes, 1)\n",
        "\n",
        "    def _double_conv(self, in_ch, out_ch):\n",
        "        return nn.Sequential(\n",
        "            nn.Conv2d(in_ch, out_ch, 3, padding=1),\n",
        "            nn.ReLU(),\n",
        "            nn.Conv2d(out_ch, out_ch, 3, padding=1),\n",
        "            nn.ReLU()\n",
        "        )\n",
        "\n",
        "    def _up_conv(self, in_ch, out_ch):\n",
        "        return nn.ConvTranspose2d(in_ch, out_ch, kernel_size=2, stride=2)\n",
        "\n",
        "    def forward(self, X):\n",
        "        conv1 = self.dconv_down1(X)\n",
        "        X = self.maxpool(conv1)\n",
        "\n",
        "        conv2 = self.dconv_down2(X)\n",
        "        X = self.maxpool(conv2)\n",
        "\n",
        "        conv3 = self.dconv_down3(X)\n",
        "        X = self.maxpool(conv3)\n",
        "\n",
        "        conv4 = self.dconv_down4(X)\n",
        "        X = self.maxpool(conv4)\n",
        "\n",
        "        X = self.dconv_down5(X)\n",
        "\n",
        "        X = self.upconv4(X)\n",
        "        X = self.dconv_up4(torch.cat([X, conv4], dim=1))\n",
        "        X = self.upconv3(X)\n",
        "        X = self.dconv_up3(torch.cat([X, conv3], dim=1))\n",
        "        X = self.upconv2(X)\n",
        "        X = self.dconv_up2(torch.cat([X, conv2], dim=1))\n",
        "        X = self.upconv1(X)\n",
        "        X = self.dconv_up1(torch.cat([X, conv1], dim=1))\n",
        "\n",
        "        out = self.conv_last(X)\n",
        "        return out\n"
      ],
      "metadata": {
        "id": "EfKKBwMpO7E5"
      },
      "execution_count": 15,
      "outputs": []
    },
    {
      "cell_type": "code",
      "source": [
        "# 入力は2^nである必要がある（256, 512, etc.）\n",
        "X = torch.randn(1, 3, 256, 256)\n",
        "model = UNet(3, 10)\n",
        "outputs = model(X)"
      ],
      "metadata": {
        "id": "O0zS_z1CQKOA"
      },
      "execution_count": 19,
      "outputs": []
    },
    {
      "cell_type": "code",
      "source": [
        "outputs.shape"
      ],
      "metadata": {
        "colab": {
          "base_uri": "https://localhost:8080/"
        },
        "id": "spWTwBsWUWLP",
        "outputId": "7075d83f-e40e-47b7-bfd9-f0231519df08"
      },
      "execution_count": 20,
      "outputs": [
        {
          "output_type": "execute_result",
          "data": {
            "text/plain": [
              "torch.Size([1, 10, 256, 256])"
            ]
          },
          "metadata": {},
          "execution_count": 20
        }
      ]
    },
    {
      "cell_type": "code",
      "source": [
        "outputs"
      ],
      "metadata": {
        "colab": {
          "base_uri": "https://localhost:8080/"
        },
        "id": "SmDcpa-SVEMo",
        "outputId": "a42ae6d9-dbf4-445d-ac9c-cebda6d8396e"
      },
      "execution_count": 21,
      "outputs": [
        {
          "output_type": "execute_result",
          "data": {
            "text/plain": [
              "tensor([[[[ 0.0773,  0.0790,  0.0799,  ...,  0.0811,  0.0785,  0.0803],\n",
              "          [ 0.0732,  0.0744,  0.0804,  ...,  0.0803,  0.0779,  0.0819],\n",
              "          [ 0.0751,  0.0737,  0.0746,  ...,  0.0736,  0.0807,  0.0789],\n",
              "          ...,\n",
              "          [ 0.0766,  0.0795,  0.0815,  ...,  0.0662,  0.0783,  0.0834],\n",
              "          [ 0.0770,  0.0846,  0.0820,  ...,  0.0861,  0.0812,  0.0821],\n",
              "          [ 0.0844,  0.0868,  0.0816,  ...,  0.0880,  0.0872,  0.0865]],\n",
              "\n",
              "         [[-0.0628, -0.0658, -0.0643,  ..., -0.0659, -0.0593, -0.0611],\n",
              "          [-0.0625, -0.0747, -0.0773,  ..., -0.0799, -0.0703, -0.0683],\n",
              "          [-0.0583, -0.0780, -0.0764,  ..., -0.0593, -0.0719, -0.0632],\n",
              "          ...,\n",
              "          [-0.0613, -0.0844, -0.0749,  ..., -0.0717, -0.0757, -0.0611],\n",
              "          [-0.0691, -0.0788, -0.0640,  ..., -0.0750, -0.0743, -0.0717],\n",
              "          [-0.0645, -0.0689, -0.0617,  ..., -0.0703, -0.0640, -0.0594]],\n",
              "\n",
              "         [[ 0.1088,  0.1108,  0.0977,  ...,  0.1009,  0.1009,  0.1049],\n",
              "          [ 0.0982,  0.0991,  0.0997,  ...,  0.0897,  0.0995,  0.0921],\n",
              "          [ 0.0994,  0.0994,  0.0887,  ...,  0.0879,  0.0895,  0.0900],\n",
              "          ...,\n",
              "          [ 0.1051,  0.0983,  0.0947,  ...,  0.0863,  0.0870,  0.0903],\n",
              "          [ 0.1142,  0.0954,  0.0935,  ...,  0.1007,  0.0878,  0.0869],\n",
              "          [ 0.1117,  0.0996,  0.0984,  ...,  0.1086,  0.0898,  0.0986]],\n",
              "\n",
              "         ...,\n",
              "\n",
              "         [[-0.1017, -0.0992, -0.1028,  ..., -0.1036, -0.1069, -0.1060],\n",
              "          [-0.0927, -0.0845, -0.0915,  ..., -0.1077, -0.0966, -0.1055],\n",
              "          [-0.1047, -0.0851, -0.0879,  ..., -0.0880, -0.0907, -0.1030],\n",
              "          ...,\n",
              "          [-0.1048, -0.0913, -0.0970,  ..., -0.0890, -0.0892, -0.1024],\n",
              "          [-0.1054, -0.1062, -0.0919,  ..., -0.0816, -0.1019, -0.1095],\n",
              "          [-0.1030, -0.1013, -0.1040,  ..., -0.0959, -0.0995, -0.1020]],\n",
              "\n",
              "         [[-0.1047, -0.1091, -0.1072,  ..., -0.1160, -0.1195, -0.1185],\n",
              "          [-0.1038, -0.1114, -0.1122,  ..., -0.1082, -0.1205, -0.1128],\n",
              "          [-0.1076, -0.1097, -0.1086,  ..., -0.1041, -0.1123, -0.1148],\n",
              "          ...,\n",
              "          [-0.1099, -0.1130, -0.1173,  ..., -0.1151, -0.1254, -0.1154],\n",
              "          [-0.1149, -0.1153, -0.1130,  ..., -0.1114, -0.1126, -0.1190],\n",
              "          [-0.1114, -0.1144, -0.1146,  ..., -0.1171, -0.1161, -0.1102]],\n",
              "\n",
              "         [[ 0.0577,  0.0516,  0.0632,  ...,  0.0614,  0.0658,  0.0607],\n",
              "          [ 0.0632,  0.0556,  0.0630,  ...,  0.0623,  0.0591,  0.0614],\n",
              "          [ 0.0641,  0.0405,  0.0637,  ...,  0.0721,  0.0628,  0.0650],\n",
              "          ...,\n",
              "          [ 0.0647,  0.0528,  0.0602,  ...,  0.0565,  0.0609,  0.0633],\n",
              "          [ 0.0530,  0.0557,  0.0553,  ...,  0.0652,  0.0671,  0.0556],\n",
              "          [ 0.0446,  0.0516,  0.0547,  ...,  0.0524,  0.0728,  0.0516]]]],\n",
              "       grad_fn=<ConvolutionBackward0>)"
            ]
          },
          "metadata": {},
          "execution_count": 21
        }
      ]
    },
    {
      "cell_type": "code",
      "source": [],
      "metadata": {
        "id": "HZFJJK4AVIU0"
      },
      "execution_count": null,
      "outputs": []
    }
  ]
}